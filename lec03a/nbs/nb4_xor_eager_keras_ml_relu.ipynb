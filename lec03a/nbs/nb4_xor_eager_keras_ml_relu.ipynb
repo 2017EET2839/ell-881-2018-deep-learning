{
 "cells": [
  {
   "cell_type": "code",
   "execution_count": 1,
   "metadata": {},
   "outputs": [],
   "source": [
    "import numpy as np\n",
    "import tensorflow as tf\n",
    "\n",
    "#This should be the first statement when running tf.eager\n",
    "tf.enable_eager_execution()"
   ]
  },
  {
   "cell_type": "code",
   "execution_count": 2,
   "metadata": {},
   "outputs": [],
   "source": [
    "# This is necessary for reproducibility!\n",
    "tf.set_random_seed(42)"
   ]
  },
  {
   "cell_type": "markdown",
   "metadata": {},
   "source": [
    "Define input data and ground truth labels"
   ]
  },
  {
   "cell_type": "code",
   "execution_count": 3,
   "metadata": {},
   "outputs": [],
   "source": [
    "X = np.asarray(dtype=np.float32, a=[[0,0], [1,0], [0,1], [1,1]])\n",
    "Y = np.expand_dims(np.asarray(dtype=np.float32, a=[0., 1., 1., 0.]), axis=-1)"
   ]
  },
  {
   "cell_type": "code",
   "execution_count": 4,
   "metadata": {},
   "outputs": [],
   "source": [
    "class LinearXORModel(tf.keras.Model):\n",
    "    def __init__(self):\n",
    "        super(LinearXORModel, self).__init__()\n",
    "        #Let us add a *linear* hidden layer\n",
    "        self.f1 = tf.keras.layers.Dense(units=2, kernel_initializer='random_normal', activation='relu', bias_initializer='uniform')\n",
    "        self.f2 = tf.keras.layers.Dense(units=1, kernel_initializer='random_normal')\n",
    "        \n",
    "    def call(self, inputs):\n",
    "        h = self.f1(inputs)\n",
    "        return self.f2(h)"
   ]
  },
  {
   "cell_type": "code",
   "execution_count": 5,
   "metadata": {},
   "outputs": [],
   "source": [
    "model = LinearXORModel()"
   ]
  },
  {
   "cell_type": "code",
   "execution_count": 6,
   "metadata": {},
   "outputs": [
    {
     "data": {
      "text/plain": [
       "<tf.Tensor: id=57, shape=(4, 1), dtype=float32, numpy=\n",
       "array([[-0.64365935],\n",
       "       [-0.56768495],\n",
       "       [-0.5631927 ],\n",
       "       [-0.7462795 ]], dtype=float32)>"
      ]
     },
     "execution_count": 6,
     "metadata": {},
     "output_type": "execute_result"
    }
   ],
   "source": [
    "model(tf.convert_to_tensor(X))"
   ]
  },
  {
   "cell_type": "code",
   "execution_count": 7,
   "metadata": {},
   "outputs": [],
   "source": [
    "def loss(model, X, Y):\n",
    "  predictions = model(X)\n",
    "  return tf.losses.mean_squared_error(labels=tf.convert_to_tensor(Y), predictions=predictions)\n",
    "\n",
    "def grad(model, inputs, targets):\n",
    "  with tf.GradientTape() as tape:\n",
    "    loss_value = loss(model, inputs, targets)\n",
    "  return tape.gradient(loss_value, model.variables)"
   ]
  },
  {
   "cell_type": "code",
   "execution_count": 8,
   "metadata": {},
   "outputs": [],
   "source": [
    "optimizer = tf.train.GradientDescentOptimizer(learning_rate=0.002)"
   ]
  },
  {
   "cell_type": "code",
   "execution_count": 9,
   "metadata": {},
   "outputs": [
    {
     "name": "stdout",
     "output_type": "stream",
     "text": [
      "Loss at step 0000: 1.442\n",
      "Loss at step 1000: 0.181\n",
      "Loss at step 2000: 0.164\n",
      "Loss at step 3000: 0.151\n",
      "Loss at step 4000: 0.139\n",
      "Loss at step 5000: 0.123\n",
      "Loss at step 6000: 0.105\n",
      "Loss at step 7000: 0.086\n",
      "Loss at step 8000: 0.067\n",
      "Loss at step 9000: 0.051\n",
      "Loss at step 10000: 0.037\n",
      "Loss at step 11000: 0.025\n",
      "Loss at step 12000: 0.017\n",
      "Loss at step 13000: 0.010\n",
      "Loss at step 14000: 0.005\n",
      "Loss at step 15000: 0.003\n",
      "Loss at step 16000: 0.001\n",
      "Loss at step 17000: 0.001\n",
      "Loss at step 18000: 0.000\n",
      "Loss at step 19000: 0.000\n",
      "Final loss: 0.000\n"
     ]
    }
   ],
   "source": [
    "for step in range(20000):\n",
    "  # Calculate derivatives of the input function with respect to its parameters.\n",
    "  grads = grad(model, X, Y)\n",
    "  # Apply the gradient to the model\n",
    "  optimizer.apply_gradients(zip(grads, model.variables), global_step=tf.train.get_or_create_global_step())\n",
    "  if step % 1000 == 0:\n",
    "    print(\"Loss at step {:04d}: {:.3f}\".format(step, loss(model, X, Y)))\n",
    "\n",
    "print(\"Final loss: {:.3f}\".format(loss(model, X, Y)))"
   ]
  },
  {
   "cell_type": "code",
   "execution_count": 10,
   "metadata": {},
   "outputs": [
    {
     "data": {
      "text/plain": [
       "<tf.Tensor: id=1800882, shape=(4, 1), dtype=float32, numpy=\n",
       "array([[0.00144255],\n",
       "       [0.9935096 ],\n",
       "       [0.99350923],\n",
       "       [0.00854647]], dtype=float32)>"
      ]
     },
     "execution_count": 10,
     "metadata": {},
     "output_type": "execute_result"
    }
   ],
   "source": [
    "model(X)"
   ]
  },
  {
   "cell_type": "code",
   "execution_count": null,
   "metadata": {},
   "outputs": [],
   "source": [
    "#Hidden representations learn to map input to linearly separable points"
   ]
  },
  {
   "cell_type": "code",
   "execution_count": 11,
   "metadata": {},
   "outputs": [
    {
     "name": "stdout",
     "output_type": "stream",
     "text": [
      "[[0.        1.1912402]\n",
      " [0.6890116 0.       ]\n",
      " [0.6890119 0.       ]\n",
      " [1.5744605 0.       ]]\n"
     ]
    }
   ],
   "source": [
    "h = model.f1(X).numpy()\n",
    "print(h)"
   ]
  },
  {
   "cell_type": "code",
   "execution_count": 12,
   "metadata": {},
   "outputs": [
    {
     "data": {
      "text/plain": [
       "[<matplotlib.lines.Line2D at 0x129068dd8>]"
      ]
     },
     "execution_count": 12,
     "metadata": {},
     "output_type": "execute_result"
    },
    {
     "data": {
      "image/png": "[encoded data removed]",
      "text/plain": [
       "<Figure size 432x288 with 1 Axes>"
      ]
     },
     "metadata": {},
     "output_type": "display_data"
    }
   ],
   "source": [
    "import matplotlib.pyplot as plt\n",
    "plt.plot(h[:,0], h[:,1], 'ro')"
   ]
  },
  {
   "cell_type": "code",
   "execution_count": null,
   "metadata": {},
   "outputs": [],
   "source": []
  }
 ],
 "metadata": {
  "kernelspec": {
   "display_name": "Python 3",
   "language": "python",
   "name": "python3"
  },
  "language_info": {
   "codemirror_mode": {
    "name": "ipython",
    "version": 3
   },
   "file_extension": ".py",
   "mimetype": "text/x-python",
   "name": "python",
   "nbconvert_exporter": "python",
   "pygments_lexer": "ipython3",
   "version": "3.6.6"
  }
 },
 "nbformat": 4,
 "nbformat_minor": 2
}
