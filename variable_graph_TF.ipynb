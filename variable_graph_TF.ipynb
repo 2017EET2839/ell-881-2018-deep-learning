{
 "cells": [
  {
   "cell_type": "code",
   "execution_count": 1,
   "metadata": {},
   "outputs": [],
   "source": [
    "import tensorflow as tf\n",
    "from IPython.display import clear_output"
   ]
  },
  {
   "cell_type": "code",
   "execution_count": 2,
   "metadata": {},
   "outputs": [],
   "source": [
    "for  n in tf.get_default_graph().as_graph_def().node:\n",
    "    print(n.name)"
   ]
  },
  {
   "cell_type": "code",
   "execution_count": 3,
   "metadata": {},
   "outputs": [],
   "source": [
    "for v in tf.global_variables():\n",
    "    print(v)"
   ]
  },
  {
   "cell_type": "code",
   "execution_count": 4,
   "metadata": {},
   "outputs": [],
   "source": [
    "total = tf.Variable(tf.zeros([1, 2]),name='R1')\n",
    "weights = tf.Variable(tf.random_uniform([1,2]),name = 'R2')"
   ]
  },
  {
   "cell_type": "code",
   "execution_count": 5,
   "metadata": {},
   "outputs": [
    {
     "name": "stdout",
     "output_type": "stream",
     "text": [
      "zeros\n",
      "R1\n",
      "R1/Assign\n",
      "R1/read\n",
      "random_uniform/shape\n",
      "random_uniform/min\n",
      "random_uniform/max\n",
      "random_uniform/RandomUniform\n",
      "random_uniform/sub\n",
      "random_uniform/mul\n",
      "random_uniform\n",
      "R2\n",
      "R2/Assign\n",
      "R2/read\n"
     ]
    }
   ],
   "source": [
    "for  n in tf.get_default_graph().as_graph_def().node:\n",
    "    print(n.name)\n"
   ]
  },
  {
   "cell_type": "code",
   "execution_count": 6,
   "metadata": {},
   "outputs": [],
   "source": [
    "total = tf.Variable(tf.zeros([1, 2]),name='R1')\n",
    "weights = tf.Variable(tf.random_uniform([1,2]),name = 'R2')"
   ]
  },
  {
   "cell_type": "code",
   "execution_count": 7,
   "metadata": {},
   "outputs": [
    {
     "name": "stdout",
     "output_type": "stream",
     "text": [
      "zeros\n",
      "R1\n",
      "R1/Assign\n",
      "R1/read\n",
      "random_uniform/shape\n",
      "random_uniform/min\n",
      "random_uniform/max\n",
      "random_uniform/RandomUniform\n",
      "random_uniform/sub\n",
      "random_uniform/mul\n",
      "random_uniform\n",
      "R2\n",
      "R2/Assign\n",
      "R2/read\n",
      "zeros_1\n",
      "R1_1\n",
      "R1_1/Assign\n",
      "R1_1/read\n",
      "random_uniform_1/shape\n",
      "random_uniform_1/min\n",
      "random_uniform_1/max\n",
      "random_uniform_1/RandomUniform\n",
      "random_uniform_1/sub\n",
      "random_uniform_1/mul\n",
      "random_uniform_1\n",
      "R2_1\n",
      "R2_1/Assign\n",
      "R2_1/read\n"
     ]
    }
   ],
   "source": [
    "for  n in tf.get_default_graph().as_graph_def().node:\n",
    "    print(n.name)\n"
   ]
  },
  {
   "cell_type": "code",
   "execution_count": 8,
   "metadata": {},
   "outputs": [],
   "source": [
    "g = tf.Graph()\n",
    "with g.as_default():\n",
    "    total = tf.Variable(tf.zeros([1, 2]),name = 'R3')\n",
    "    weights = tf.Variable(tf.random_uniform([1,2]),name = 'R4')"
   ]
  },
  {
   "cell_type": "code",
   "execution_count": 9,
   "metadata": {},
   "outputs": [
    {
     "name": "stdout",
     "output_type": "stream",
     "text": [
      "zeros\n",
      "R1\n",
      "R1/Assign\n",
      "R1/read\n",
      "random_uniform/shape\n",
      "random_uniform/min\n",
      "random_uniform/max\n",
      "random_uniform/RandomUniform\n",
      "random_uniform/sub\n",
      "random_uniform/mul\n",
      "random_uniform\n",
      "R2\n",
      "R2/Assign\n",
      "R2/read\n",
      "zeros_1\n",
      "R1_1\n",
      "R1_1/Assign\n",
      "R1_1/read\n",
      "random_uniform_1/shape\n",
      "random_uniform_1/min\n",
      "random_uniform_1/max\n",
      "random_uniform_1/RandomUniform\n",
      "random_uniform_1/sub\n",
      "random_uniform_1/mul\n",
      "random_uniform_1\n",
      "R2_1\n",
      "R2_1/Assign\n",
      "R2_1/read\n"
     ]
    }
   ],
   "source": [
    "for  n in tf.get_default_graph().as_graph_def().node:\n",
    "    print(n.name)\n"
   ]
  },
  {
   "cell_type": "code",
   "execution_count": 10,
   "metadata": {},
   "outputs": [
    {
     "name": "stdout",
     "output_type": "stream",
     "text": [
      "zeros\n",
      "R3\n",
      "R3/Assign\n",
      "R3/read\n",
      "random_uniform/shape\n",
      "random_uniform/min\n",
      "random_uniform/max\n",
      "random_uniform/RandomUniform\n",
      "random_uniform/sub\n",
      "random_uniform/mul\n",
      "random_uniform\n",
      "R4\n",
      "R4/Assign\n",
      "R4/read\n"
     ]
    }
   ],
   "source": [
    "for  n in g.as_graph_def().node:\n",
    "    print(n.name)\n"
   ]
  },
  {
   "cell_type": "code",
   "execution_count": 11,
   "metadata": {},
   "outputs": [
    {
     "name": "stdout",
     "output_type": "stream",
     "text": [
      "<tf.Variable 'R1:0' shape=(1, 2) dtype=float32_ref>\n",
      "<tf.Variable 'R2:0' shape=(1, 2) dtype=float32_ref>\n",
      "<tf.Variable 'R1_1:0' shape=(1, 2) dtype=float32_ref>\n",
      "<tf.Variable 'R2_1:0' shape=(1, 2) dtype=float32_ref>\n"
     ]
    }
   ],
   "source": [
    "for v in tf.global_variables():\n",
    "    print(v)"
   ]
  },
  {
   "cell_type": "code",
   "execution_count": 12,
   "metadata": {},
   "outputs": [
    {
     "name": "stdout",
     "output_type": "stream",
     "text": [
      "<tf.Variable 'R3:0' shape=(1, 2) dtype=float32_ref>\n",
      "<tf.Variable 'R4:0' shape=(1, 2) dtype=float32_ref>\n"
     ]
    }
   ],
   "source": [
    "with g.as_default():\n",
    "    for v in tf.global_variables():\n",
    "        print(v)"
   ]
  },
  {
   "cell_type": "code",
   "execution_count": 13,
   "metadata": {},
   "outputs": [],
   "source": [
    "with tf.variable_scope(\"X\"):\n",
    "    total = tf.Variable(tf.zeros([1, 2]),name='R1')\n",
    "    weights = tf.Variable(tf.random_uniform([1,2]),name = 'R2')"
   ]
  },
  {
   "cell_type": "code",
   "execution_count": 14,
   "metadata": {},
   "outputs": [
    {
     "name": "stdout",
     "output_type": "stream",
     "text": [
      "zeros\n",
      "R1\n",
      "R1/Assign\n",
      "R1/read\n",
      "random_uniform/shape\n",
      "random_uniform/min\n",
      "random_uniform/max\n",
      "random_uniform/RandomUniform\n",
      "random_uniform/sub\n",
      "random_uniform/mul\n",
      "random_uniform\n",
      "R2\n",
      "R2/Assign\n",
      "R2/read\n",
      "zeros_1\n",
      "R1_1\n",
      "R1_1/Assign\n",
      "R1_1/read\n",
      "random_uniform_1/shape\n",
      "random_uniform_1/min\n",
      "random_uniform_1/max\n",
      "random_uniform_1/RandomUniform\n",
      "random_uniform_1/sub\n",
      "random_uniform_1/mul\n",
      "random_uniform_1\n",
      "R2_1\n",
      "R2_1/Assign\n",
      "R2_1/read\n",
      "X/zeros\n",
      "X/R1\n",
      "X/R1/Assign\n",
      "X/R1/read\n",
      "X/random_uniform/shape\n",
      "X/random_uniform/min\n",
      "X/random_uniform/max\n",
      "X/random_uniform/RandomUniform\n",
      "X/random_uniform/sub\n",
      "X/random_uniform/mul\n",
      "X/random_uniform\n",
      "X/R2\n",
      "X/R2/Assign\n",
      "X/R2/read\n"
     ]
    }
   ],
   "source": [
    "for  n in tf.get_default_graph().as_graph_def().node:\n",
    "    print(n.name)"
   ]
  },
  {
   "cell_type": "code",
   "execution_count": 15,
   "metadata": {},
   "outputs": [
    {
     "name": "stdout",
     "output_type": "stream",
     "text": [
      "<tf.Variable 'R1:0' shape=(1, 2) dtype=float32_ref>\n",
      "<tf.Variable 'R2:0' shape=(1, 2) dtype=float32_ref>\n",
      "<tf.Variable 'R1_1:0' shape=(1, 2) dtype=float32_ref>\n",
      "<tf.Variable 'R2_1:0' shape=(1, 2) dtype=float32_ref>\n",
      "<tf.Variable 'X/R1:0' shape=(1, 2) dtype=float32_ref>\n",
      "<tf.Variable 'X/R2:0' shape=(1, 2) dtype=float32_ref>\n"
     ]
    }
   ],
   "source": [
    "for v in tf.global_variables():\n",
    "    print(v)"
   ]
  },
  {
   "cell_type": "code",
   "execution_count": 16,
   "metadata": {},
   "outputs": [],
   "source": [
    "with tf.variable_scope(\"X\"):\n",
    "    total = tf.Variable(tf.zeros([1, 2]),name='R1')\n",
    "    weights = tf.Variable(tf.random_uniform([1,2]),name = 'R2')"
   ]
  },
  {
   "cell_type": "code",
   "execution_count": 17,
   "metadata": {},
   "outputs": [
    {
     "name": "stdout",
     "output_type": "stream",
     "text": [
      "<tf.Variable 'R1:0' shape=(1, 2) dtype=float32_ref>\n",
      "<tf.Variable 'R2:0' shape=(1, 2) dtype=float32_ref>\n",
      "<tf.Variable 'R1_1:0' shape=(1, 2) dtype=float32_ref>\n",
      "<tf.Variable 'R2_1:0' shape=(1, 2) dtype=float32_ref>\n",
      "<tf.Variable 'X/R1:0' shape=(1, 2) dtype=float32_ref>\n",
      "<tf.Variable 'X/R2:0' shape=(1, 2) dtype=float32_ref>\n",
      "<tf.Variable 'X_1/R1:0' shape=(1, 2) dtype=float32_ref>\n",
      "<tf.Variable 'X_1/R2:0' shape=(1, 2) dtype=float32_ref>\n"
     ]
    }
   ],
   "source": [
    "for v in tf.global_variables():\n",
    "    print(v)"
   ]
  },
  {
   "cell_type": "code",
   "execution_count": 18,
   "metadata": {},
   "outputs": [
    {
     "data": {
      "text/plain": [
       "<tf.Variable 'X/R1_1:0' shape=(1, 2) dtype=float32_ref>"
      ]
     },
     "execution_count": 18,
     "metadata": {},
     "output_type": "execute_result"
    }
   ],
   "source": [
    "tf.get_variable('X/R1',shape = [1,2])"
   ]
  },
  {
   "cell_type": "code",
   "execution_count": 19,
   "metadata": {},
   "outputs": [
    {
     "name": "stdout",
     "output_type": "stream",
     "text": [
      "<tf.Variable 'R1:0' shape=(1, 2) dtype=float32_ref>\n",
      "<tf.Variable 'R2:0' shape=(1, 2) dtype=float32_ref>\n",
      "<tf.Variable 'R1_1:0' shape=(1, 2) dtype=float32_ref>\n",
      "<tf.Variable 'R2_1:0' shape=(1, 2) dtype=float32_ref>\n",
      "<tf.Variable 'X/R1:0' shape=(1, 2) dtype=float32_ref>\n",
      "<tf.Variable 'X/R2:0' shape=(1, 2) dtype=float32_ref>\n",
      "<tf.Variable 'X_1/R1:0' shape=(1, 2) dtype=float32_ref>\n",
      "<tf.Variable 'X_1/R2:0' shape=(1, 2) dtype=float32_ref>\n",
      "<tf.Variable 'X/R1_1:0' shape=(1, 2) dtype=float32_ref>\n"
     ]
    }
   ],
   "source": [
    "for v in tf.global_variables():\n",
    "    print(v)"
   ]
  },
  {
   "cell_type": "code",
   "execution_count": 20,
   "metadata": {},
   "outputs": [
    {
     "ename": "ValueError",
     "evalue": "Variable X/R1 already exists, disallowed. Did you mean to set reuse=True or reuse=tf.AUTO_REUSE in VarScope? Originally defined at:\n\n  File \"<ipython-input-18-68678c089617>\", line 1, in <module>\n    tf.get_variable('X/R1',shape = [1,2])\n  File \"/usr/local/lib/python2.7/dist-packages/IPython/core/interactiveshell.py\", line 2878, in run_code\n    exec(code_obj, self.user_global_ns, self.user_ns)\n  File \"/usr/local/lib/python2.7/dist-packages/IPython/core/interactiveshell.py\", line 2824, in run_ast_nodes\n    if self.run_code(code, result):\n",
     "output_type": "error",
     "traceback": [
      "\u001b[0;31m\u001b[0m",
      "\u001b[0;31mValueError\u001b[0mTraceback (most recent call last)",
      "\u001b[0;32m<ipython-input-20-68678c089617>\u001b[0m in \u001b[0;36m<module>\u001b[0;34m()\u001b[0m\n\u001b[0;32m----> 1\u001b[0;31m \u001b[0mtf\u001b[0m\u001b[0;34m.\u001b[0m\u001b[0mget_variable\u001b[0m\u001b[0;34m(\u001b[0m\u001b[0;34m'X/R1'\u001b[0m\u001b[0;34m,\u001b[0m\u001b[0mshape\u001b[0m \u001b[0;34m=\u001b[0m \u001b[0;34m[\u001b[0m\u001b[0;36m1\u001b[0m\u001b[0;34m,\u001b[0m\u001b[0;36m2\u001b[0m\u001b[0;34m]\u001b[0m\u001b[0;34m)\u001b[0m\u001b[0;34m\u001b[0m\u001b[0m\n\u001b[0m",
      "\u001b[0;32m/usr/local/lib/python2.7/dist-packages/tensorflow/python/ops/variable_scope.pyc\u001b[0m in \u001b[0;36mget_variable\u001b[0;34m(name, shape, dtype, initializer, regularizer, trainable, collections, caching_device, partitioner, validate_shape, use_resource, custom_getter, constraint)\u001b[0m\n\u001b[1;32m   1326\u001b[0m       \u001b[0mpartitioner\u001b[0m\u001b[0;34m=\u001b[0m\u001b[0mpartitioner\u001b[0m\u001b[0;34m,\u001b[0m \u001b[0mvalidate_shape\u001b[0m\u001b[0;34m=\u001b[0m\u001b[0mvalidate_shape\u001b[0m\u001b[0;34m,\u001b[0m\u001b[0;34m\u001b[0m\u001b[0m\n\u001b[1;32m   1327\u001b[0m       \u001b[0muse_resource\u001b[0m\u001b[0;34m=\u001b[0m\u001b[0muse_resource\u001b[0m\u001b[0;34m,\u001b[0m \u001b[0mcustom_getter\u001b[0m\u001b[0;34m=\u001b[0m\u001b[0mcustom_getter\u001b[0m\u001b[0;34m,\u001b[0m\u001b[0;34m\u001b[0m\u001b[0m\n\u001b[0;32m-> 1328\u001b[0;31m       constraint=constraint)\n\u001b[0m\u001b[1;32m   1329\u001b[0m get_variable_or_local_docstring = (\n\u001b[1;32m   1330\u001b[0m     \"\"\"%s\n",
      "\u001b[0;32m/usr/local/lib/python2.7/dist-packages/tensorflow/python/ops/variable_scope.pyc\u001b[0m in \u001b[0;36mget_variable\u001b[0;34m(self, var_store, name, shape, dtype, initializer, regularizer, reuse, trainable, collections, caching_device, partitioner, validate_shape, use_resource, custom_getter, constraint)\u001b[0m\n\u001b[1;32m   1088\u001b[0m           \u001b[0mpartitioner\u001b[0m\u001b[0;34m=\u001b[0m\u001b[0mpartitioner\u001b[0m\u001b[0;34m,\u001b[0m \u001b[0mvalidate_shape\u001b[0m\u001b[0;34m=\u001b[0m\u001b[0mvalidate_shape\u001b[0m\u001b[0;34m,\u001b[0m\u001b[0;34m\u001b[0m\u001b[0m\n\u001b[1;32m   1089\u001b[0m           \u001b[0muse_resource\u001b[0m\u001b[0;34m=\u001b[0m\u001b[0muse_resource\u001b[0m\u001b[0;34m,\u001b[0m \u001b[0mcustom_getter\u001b[0m\u001b[0;34m=\u001b[0m\u001b[0mcustom_getter\u001b[0m\u001b[0;34m,\u001b[0m\u001b[0;34m\u001b[0m\u001b[0m\n\u001b[0;32m-> 1090\u001b[0;31m           constraint=constraint)\n\u001b[0m\u001b[1;32m   1091\u001b[0m \u001b[0;34m\u001b[0m\u001b[0m\n\u001b[1;32m   1092\u001b[0m   def _get_partitioned_variable(self,\n",
      "\u001b[0;32m/usr/local/lib/python2.7/dist-packages/tensorflow/python/ops/variable_scope.pyc\u001b[0m in \u001b[0;36mget_variable\u001b[0;34m(self, name, shape, dtype, initializer, regularizer, reuse, trainable, collections, caching_device, partitioner, validate_shape, use_resource, custom_getter, constraint)\u001b[0m\n\u001b[1;32m    433\u001b[0m           \u001b[0mcaching_device\u001b[0m\u001b[0;34m=\u001b[0m\u001b[0mcaching_device\u001b[0m\u001b[0;34m,\u001b[0m \u001b[0mpartitioner\u001b[0m\u001b[0;34m=\u001b[0m\u001b[0mpartitioner\u001b[0m\u001b[0;34m,\u001b[0m\u001b[0;34m\u001b[0m\u001b[0m\n\u001b[1;32m    434\u001b[0m           \u001b[0mvalidate_shape\u001b[0m\u001b[0;34m=\u001b[0m\u001b[0mvalidate_shape\u001b[0m\u001b[0;34m,\u001b[0m \u001b[0muse_resource\u001b[0m\u001b[0;34m=\u001b[0m\u001b[0muse_resource\u001b[0m\u001b[0;34m,\u001b[0m\u001b[0;34m\u001b[0m\u001b[0m\n\u001b[0;32m--> 435\u001b[0;31m           constraint=constraint)\n\u001b[0m\u001b[1;32m    436\u001b[0m \u001b[0;34m\u001b[0m\u001b[0m\n\u001b[1;32m    437\u001b[0m   def _get_partitioned_variable(\n",
      "\u001b[0;32m/usr/local/lib/python2.7/dist-packages/tensorflow/python/ops/variable_scope.pyc\u001b[0m in \u001b[0;36m_true_getter\u001b[0;34m(name, shape, dtype, initializer, regularizer, reuse, trainable, collections, caching_device, partitioner, validate_shape, use_resource, constraint)\u001b[0m\n\u001b[1;32m    402\u001b[0m           \u001b[0mtrainable\u001b[0m\u001b[0;34m=\u001b[0m\u001b[0mtrainable\u001b[0m\u001b[0;34m,\u001b[0m \u001b[0mcollections\u001b[0m\u001b[0;34m=\u001b[0m\u001b[0mcollections\u001b[0m\u001b[0;34m,\u001b[0m\u001b[0;34m\u001b[0m\u001b[0m\n\u001b[1;32m    403\u001b[0m           \u001b[0mcaching_device\u001b[0m\u001b[0;34m=\u001b[0m\u001b[0mcaching_device\u001b[0m\u001b[0;34m,\u001b[0m \u001b[0mvalidate_shape\u001b[0m\u001b[0;34m=\u001b[0m\u001b[0mvalidate_shape\u001b[0m\u001b[0;34m,\u001b[0m\u001b[0;34m\u001b[0m\u001b[0m\n\u001b[0;32m--> 404\u001b[0;31m           use_resource=use_resource, constraint=constraint)\n\u001b[0m\u001b[1;32m    405\u001b[0m \u001b[0;34m\u001b[0m\u001b[0m\n\u001b[1;32m    406\u001b[0m     \u001b[0;32mif\u001b[0m \u001b[0mcustom_getter\u001b[0m \u001b[0;32mis\u001b[0m \u001b[0;32mnot\u001b[0m \u001b[0mNone\u001b[0m\u001b[0;34m:\u001b[0m\u001b[0;34m\u001b[0m\u001b[0m\n",
      "\u001b[0;32m/usr/local/lib/python2.7/dist-packages/tensorflow/python/ops/variable_scope.pyc\u001b[0m in \u001b[0;36m_get_single_variable\u001b[0;34m(self, name, shape, dtype, initializer, regularizer, partition_info, reuse, trainable, collections, caching_device, validate_shape, use_resource, constraint)\u001b[0m\n\u001b[1;32m    741\u001b[0m                          \u001b[0;34m\"reuse=tf.AUTO_REUSE in VarScope? \"\u001b[0m\u001b[0;34m\u001b[0m\u001b[0m\n\u001b[1;32m    742\u001b[0m                          \"Originally defined at:\\n\\n%s\" % (\n\u001b[0;32m--> 743\u001b[0;31m                              name, \"\".join(traceback.format_list(tb))))\n\u001b[0m\u001b[1;32m    744\u001b[0m       \u001b[0mfound_var\u001b[0m \u001b[0;34m=\u001b[0m \u001b[0mself\u001b[0m\u001b[0;34m.\u001b[0m\u001b[0m_vars\u001b[0m\u001b[0;34m[\u001b[0m\u001b[0mname\u001b[0m\u001b[0;34m]\u001b[0m\u001b[0;34m\u001b[0m\u001b[0m\n\u001b[1;32m    745\u001b[0m       \u001b[0;32mif\u001b[0m \u001b[0;32mnot\u001b[0m \u001b[0mshape\u001b[0m\u001b[0;34m.\u001b[0m\u001b[0mis_compatible_with\u001b[0m\u001b[0;34m(\u001b[0m\u001b[0mfound_var\u001b[0m\u001b[0;34m.\u001b[0m\u001b[0mget_shape\u001b[0m\u001b[0;34m(\u001b[0m\u001b[0;34m)\u001b[0m\u001b[0;34m)\u001b[0m\u001b[0;34m:\u001b[0m\u001b[0;34m\u001b[0m\u001b[0m\n",
      "\u001b[0;31mValueError\u001b[0m: Variable X/R1 already exists, disallowed. Did you mean to set reuse=True or reuse=tf.AUTO_REUSE in VarScope? Originally defined at:\n\n  File \"<ipython-input-18-68678c089617>\", line 1, in <module>\n    tf.get_variable('X/R1',shape = [1,2])\n  File \"/usr/local/lib/python2.7/dist-packages/IPython/core/interactiveshell.py\", line 2878, in run_code\n    exec(code_obj, self.user_global_ns, self.user_ns)\n  File \"/usr/local/lib/python2.7/dist-packages/IPython/core/interactiveshell.py\", line 2824, in run_ast_nodes\n    if self.run_code(code, result):\n"
     ]
    }
   ],
   "source": [
    "tf.get_variable('X/R1',shape = [1,2])"
   ]
  },
  {
   "cell_type": "code",
   "execution_count": 21,
   "metadata": {},
   "outputs": [
    {
     "name": "stdout",
     "output_type": "stream",
     "text": [
      "<tf.Variable 'R1:0' shape=(1, 2) dtype=float32_ref>\n",
      "<tf.Variable 'R2:0' shape=(1, 2) dtype=float32_ref>\n",
      "<tf.Variable 'R1_1:0' shape=(1, 2) dtype=float32_ref>\n",
      "<tf.Variable 'R2_1:0' shape=(1, 2) dtype=float32_ref>\n",
      "<tf.Variable 'X/R1:0' shape=(1, 2) dtype=float32_ref>\n",
      "<tf.Variable 'X/R2:0' shape=(1, 2) dtype=float32_ref>\n",
      "<tf.Variable 'X_1/R1:0' shape=(1, 2) dtype=float32_ref>\n",
      "<tf.Variable 'X_1/R2:0' shape=(1, 2) dtype=float32_ref>\n",
      "<tf.Variable 'X/R1_1:0' shape=(1, 2) dtype=float32_ref>\n"
     ]
    }
   ],
   "source": [
    "for v in tf.global_variables():\n",
    "    print(v)"
   ]
  },
  {
   "cell_type": "code",
   "execution_count": null,
   "metadata": {},
   "outputs": [],
   "source": []
  }
 ],
 "metadata": {
  "kernelspec": {
   "display_name": "Python 2",
   "language": "python",
   "name": "python2"
  },
  "language_info": {
   "codemirror_mode": {
    "name": "ipython",
    "version": 2
   },
   "file_extension": ".py",
   "mimetype": "text/x-python",
   "name": "python",
   "nbconvert_exporter": "python",
   "pygments_lexer": "ipython2",
   "version": "2.7.12"
  }
 },
 "nbformat": 4,
 "nbformat_minor": 2
}
