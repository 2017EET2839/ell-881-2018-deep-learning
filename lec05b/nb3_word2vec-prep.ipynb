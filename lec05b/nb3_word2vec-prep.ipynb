{
 "cells": [
  {
   "cell_type": "markdown",
   "metadata": {},
   "source": [
    "In this notebook, we will learn how to train word2vec model in Tensorflow\n",
    "\n",
    "* Code adapted from https://github.com/chiphuyen/stanford-tensorflow-tutorials/blob/master/examples/04_word2vec_eager.py\n",
    "\n",
    "* Images adapted from http://mccormickml.com/2016/04/19/word2vec-tutorial-the-skip-gram-model/"
   ]
  },
  {
   "cell_type": "markdown",
   "metadata": {},
   "source": [
    "![title](w2vec.png)"
   ]
  },
  {
   "cell_type": "code",
   "execution_count": 1,
   "metadata": {},
   "outputs": [],
   "source": [
    "import numpy as np"
   ]
  },
  {
   "cell_type": "code",
   "execution_count": 2,
   "metadata": {},
   "outputs": [],
   "source": [
    "np.random.seed(42)"
   ]
  },
  {
   "cell_type": "code",
   "execution_count": 3,
   "metadata": {},
   "outputs": [],
   "source": [
    "sentences_file = 'wiki.1M.txt.tokenized'\n",
    "src_tgt_file = 'wiki.1M.txt.tokenized.src_tgt'"
   ]
  },
  {
   "cell_type": "markdown",
   "metadata": {},
   "source": [
    "### P1: Data Prep, create src/tgt pairs"
   ]
  },
  {
   "cell_type": "code",
   "execution_count": 4,
   "metadata": {},
   "outputs": [],
   "source": [
    "def skip_gram_src_tgt_generator(out_file, window_size=5):\n",
    "    with open(sentences_file) as fr, open(out_file, 'w') as fw:\n",
    "        for line_num, line in enumerate(fr):\n",
    "            words = line.split()\n",
    "            for src_index in range(len(words)):\n",
    "                lo = src_index - window_size\n",
    "                lo = lo if lo >=0 else 0\n",
    "\n",
    "                if src_index > lo:\n",
    "                    tgt_index = np.random.randint(lo, high=src_index)\n",
    "                    fw.write(f'{words[src_index]} {words[tgt_index]}\\n')\n",
    "                              \n",
    "                ro = src_index + window_size\n",
    "                ro = ro if ro < len(words) else len(words)\n",
    "\n",
    "                if ro > src_index+1:\n",
    "                    tgt_index = np.random.randint(src_index+1, high=ro)\n",
    "                    fw.write(f'{words[src_index]} {words[tgt_index]}\\n')\n",
    "                             \n",
    "            if line_num % 100000 == 0:\n",
    "                print(line_num)"
   ]
  },
  {
   "cell_type": "code",
   "execution_count": 5,
   "metadata": {},
   "outputs": [
    {
     "name": "stdout",
     "output_type": "stream",
     "text": [
      "0\n",
      "100000\n",
      "200000\n",
      "300000\n",
      "400000\n",
      "500000\n",
      "600000\n",
      "700000\n",
      "800000\n",
      "900000\n"
     ]
    }
   ],
   "source": [
    "skip_gram_src_tgt_generator(src_tgt_file)"
   ]
  }
 ],
 "metadata": {
  "kernelspec": {
   "display_name": "Python 3",
   "language": "python",
   "name": "python3"
  },
  "language_info": {
   "codemirror_mode": {
    "name": "ipython",
    "version": 3
   },
   "file_extension": ".py",
   "mimetype": "text/x-python",
   "name": "python",
   "nbconvert_exporter": "python",
   "pygments_lexer": "ipython3",
   "version": "3.6.6"
  }
 },
 "nbformat": 4,
 "nbformat_minor": 2
}
