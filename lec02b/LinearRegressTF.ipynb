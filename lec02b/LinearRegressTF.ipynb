{
 "cells": [
  {
   "cell_type": "code",
   "execution_count": 1,
   "metadata": {},
   "outputs": [],
   "source": [
    "import numpy as np\n",
    "import matplotlib.pyplot as plt\n",
    "import tensorflow as tf"
   ]
  },
  {
   "cell_type": "code",
   "execution_count": 2,
   "metadata": {},
   "outputs": [],
   "source": [
    "# creating the weight and bias.\n",
    "# The defined variables will be initialized to zero.\n",
    "W = tf.Variable(0.0, name=\"weights\")\n",
    "b = tf.Variable(1.0, name=\"bias\")"
   ]
  },
  {
   "cell_type": "code",
   "execution_count": 3,
   "metadata": {},
   "outputs": [],
   "source": [
    "X = tf.placeholder(tf.float32, name=\"X\")\n",
    "Y = tf.placeholder(tf.float32, name=\"Y\")"
   ]
  },
  {
   "cell_type": "code",
   "execution_count": 4,
   "metadata": {},
   "outputs": [
    {
     "name": "stdout",
     "output_type": "stream",
     "text": [
      "<tf.Variable 'weights:0' shape=() dtype=float32_ref>\n",
      "<tf.Variable 'bias:0' shape=() dtype=float32_ref>\n"
     ]
    }
   ],
   "source": [
    "for v in tf.global_variables():\n",
    "    print(v)"
   ]
  },
  {
   "cell_type": "code",
   "execution_count": 5,
   "metadata": {},
   "outputs": [
    {
     "name": "stdout",
     "output_type": "stream",
     "text": [
      "weights/initial_value\n",
      "weights\n",
      "weights/Assign\n",
      "weights/read\n",
      "bias/initial_value\n",
      "bias\n",
      "bias/Assign\n",
      "bias/read\n",
      "X\n",
      "Y\n"
     ]
    }
   ],
   "source": [
    "for  n in tf.get_default_graph().as_graph_def().node:\n",
    "    print(n.name)"
   ]
  },
  {
   "cell_type": "code",
   "execution_count": 6,
   "metadata": {},
   "outputs": [
    {
     "data": {
      "text/plain": [
       "<tf.Tensor 'X:0' shape=<unknown> dtype=float32>"
      ]
     },
     "execution_count": 6,
     "metadata": {},
     "output_type": "execute_result"
    }
   ],
   "source": [
    "X"
   ]
  },
  {
   "cell_type": "code",
   "execution_count": 7,
   "metadata": {},
   "outputs": [
    {
     "data": {
      "text/plain": [
       "<tf.Variable 'weights:0' shape=() dtype=float32_ref>"
      ]
     },
     "execution_count": 7,
     "metadata": {},
     "output_type": "execute_result"
    }
   ],
   "source": [
    "W"
   ]
  },
  {
   "cell_type": "code",
   "execution_count": 8,
   "metadata": {},
   "outputs": [],
   "source": [
    "Y_p = X * W + b"
   ]
  },
  {
   "cell_type": "code",
   "execution_count": 9,
   "metadata": {},
   "outputs": [
    {
     "name": "stdout",
     "output_type": "stream",
     "text": [
      "weights/initial_value\n",
      "weights\n",
      "weights/Assign\n",
      "weights/read\n",
      "bias/initial_value\n",
      "bias\n",
      "bias/Assign\n",
      "bias/read\n",
      "X\n",
      "Y\n",
      "mul\n",
      "add\n"
     ]
    }
   ],
   "source": [
    "for  n in tf.get_default_graph().as_graph_def().node:\n",
    "    print(n.name)"
   ]
  },
  {
   "cell_type": "code",
   "execution_count": 10,
   "metadata": {},
   "outputs": [
    {
     "data": {
      "text/plain": [
       "<tf.Tensor 'add:0' shape=<unknown> dtype=float32>"
      ]
     },
     "execution_count": 10,
     "metadata": {},
     "output_type": "execute_result"
    }
   ],
   "source": [
    "Y_p"
   ]
  },
  {
   "cell_type": "code",
   "execution_count": 11,
   "metadata": {},
   "outputs": [],
   "source": [
    "loss = tf.squared_difference(Y, Y_p)"
   ]
  },
  {
   "cell_type": "code",
   "execution_count": 12,
   "metadata": {},
   "outputs": [],
   "source": [
    "train_op = tf.train.GradientDescentOptimizer(0.001).minimize(loss)"
   ]
  },
  {
   "cell_type": "code",
   "execution_count": 14,
   "metadata": {},
   "outputs": [
    {
     "name": "stdout",
     "output_type": "stream",
     "text": [
      "1.0\n"
     ]
    }
   ],
   "source": [
    "with tf.Session() as sess:\n",
    "\n",
    "    # Initialize the variables[w and b].\n",
    "    sess.run(tf.global_variables_initializer())\n",
    "    print b.eval()\n",
    "    #print X.eval()"
   ]
  },
  {
   "cell_type": "code",
   "execution_count": 18,
   "metadata": {},
   "outputs": [
    {
     "name": "stdout",
     "output_type": "stream",
     "text": [
      "epoch 1, loss=11.646643\n",
      "2.9479246\n",
      "epoch 2, loss=10.004311\n",
      "2.9126456\n",
      "epoch 3, loss=8.525454\n",
      "2.8783038\n",
      "epoch 4, loss=7.199423\n",
      "2.8448746\n",
      "epoch 5, loss=6.016232\n",
      "2.812334\n",
      "epoch 6, loss=4.966435\n",
      "2.7806575\n",
      "epoch 7, loss=4.041136\n",
      "2.749823\n",
      "epoch 8, loss=3.231968\n",
      "2.719808\n",
      "epoch 9, loss=2.531025\n",
      "2.6905906\n",
      "epoch 10, loss=1.930911\n",
      "2.6621492\n",
      "epoch 11, loss=1.424616\n",
      "2.634464\n",
      "epoch 12, loss=1.005573\n",
      "2.6075137\n",
      "epoch 13, loss=0.667588\n",
      "2.5812802\n",
      "epoch 14, loss=0.404847\n",
      "2.5557437\n",
      "epoch 15, loss=0.211871\n",
      "2.5308855\n",
      "epoch 16, loss=0.083514\n",
      "2.5066879\n",
      "epoch 17, loss=0.014941\n",
      "2.4831336\n",
      "epoch 18, loss=0.001607\n",
      "2.4602048\n",
      "epoch 19, loss=0.039243\n",
      "2.4378858\n",
      "epoch 20, loss=0.123840\n",
      "2.4161594\n",
      "epoch 21, loss=0.251635\n",
      "2.3950105\n",
      "epoch 22, loss=0.419099\n",
      "2.3744233\n",
      "epoch 23, loss=0.622924\n",
      "2.3543832\n",
      "epoch 24, loss=0.859983\n",
      "2.334876\n",
      "epoch 25, loss=1.127391\n",
      "2.3158872\n",
      "epoch 26, loss=1.422405\n",
      "2.2974026\n"
     ]
    }
   ],
   "source": [
    "with tf.Session() as sess:\n",
    "\n",
    "    # Initialize the variables[w and b].\n",
    "    sess.run(tf.global_variables_initializer())\n",
    "\n",
    "    # Step 8: train the model\n",
    "    for epoch_num in range(26): # run 100 epochs\n",
    "        for x, y in data:\n",
    "          \n",
    "            # Session runs train_op to minimize loss\n",
    "            loss_value,_ = sess.run([loss,train_op], feed_dict={X: x, Y: y})\n",
    "\n",
    "            # Displaying the loss per epoch.\n",
    "        print('epoch %d, loss=%f' %(epoch_num+1, loss_value))\n",
    "\n",
    "        # save the values of weight and bias\n",
    "        wcoeff, bias = sess.run([W, b])\n",
    "        print (wcoeff)"
   ]
  },
  {
   "cell_type": "code",
   "execution_count": 16,
   "metadata": {},
   "outputs": [],
   "source": [
    "# Data file provided by the Stanford course CS 20SI: TensorFlow for Deep Learning Research.\n",
    "# https://github.com/chiphuyen/tf-stanford-tutorials\n",
    "DATA_FILE = \"fire_theft.xls\"\n",
    "import xlrd\n",
    "# read the data from the .xls file.\n",
    "book = xlrd.open_workbook(DATA_FILE, encoding_override=\"utf-8\")\n",
    "sheet = book.sheet_by_index(0)\n",
    "data = np.asarray([sheet.row_values(i) for i in range(1, sheet.nrows)])\n",
    "num_samples = sheet.nrows - 1"
   ]
  },
  {
   "cell_type": "code",
   "execution_count": 17,
   "metadata": {},
   "outputs": [
    {
     "data": {
      "text/plain": [
       "[<matplotlib.lines.Line2D at 0x7fc5702e2e90>]"
      ]
     },
     "execution_count": 17,
     "metadata": {},
     "output_type": "execute_result"
    },
    {
     "data": {
      "image/png": "[encoded data removed]",
      "text/plain": [
       "<Figure size 432x288 with 1 Axes>"
      ]
     },
     "metadata": {},
     "output_type": "display_data"
    }
   ],
   "source": [
    "plt.plot(data[:,0],data[:,1],'.')"
   ]
  },
  {
   "cell_type": "code",
   "execution_count": 20,
   "metadata": {},
   "outputs": [],
   "source": [
    "Prediction_values = data[:,0] * wcoeff + bias"
   ]
  },
  {
   "cell_type": "code",
   "execution_count": 21,
   "metadata": {},
   "outputs": [
    {
     "data": {
      "text/plain": [
       "[<matplotlib.lines.Line2D at 0x7fc5701e05d0>]"
      ]
     },
     "execution_count": 21,
     "metadata": {},
     "output_type": "execute_result"
    },
    {
     "data": {
      "image/png": "[encoded data removed]",
      "text/plain": [
       "<Figure size 432x288 with 1 Axes>"
      ]
     },
     "metadata": {},
     "output_type": "display_data"
    }
   ],
   "source": [
    "plt.plot(data[:,0],data[:,1],'.')\n",
    "plt.plot(data[:,0],Prediction_values)"
   ]
  },
  {
   "cell_type": "code",
   "execution_count": null,
   "metadata": {},
   "outputs": [],
   "source": []
  }
 ],
 "metadata": {
  "kernelspec": {
   "display_name": "Python 2",
   "language": "python",
   "name": "python2"
  },
  "language_info": {
   "codemirror_mode": {
    "name": "ipython",
    "version": 2
   },
   "file_extension": ".py",
   "mimetype": "text/x-python",
   "name": "python",
   "nbconvert_exporter": "python",
   "pygments_lexer": "ipython2",
   "version": "2.7.12"
  }
 },
 "nbformat": 4,
 "nbformat_minor": 2
}
